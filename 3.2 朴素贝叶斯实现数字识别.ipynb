{
 "cells": [
  {
   "cell_type": "code",
   "execution_count": 2,
   "metadata": {},
   "outputs": [],
   "source": [
    "import numpy as np\n",
    "from os import listdir\n",
    "\n",
    "def img2vector(directory, filename):\n",
    "    vector1 = np.zeros((1, 1024))\n",
    "    vector2 = np.zeros((1, 256))\n",
    "    data = np.zeros((32, 32))\n",
    "    f = open(directory + '/' + filename)\n",
    "    for i in range(32):\n",
    "        line = f.readline()\n",
    "        for j in range(32):\n",
    "            data[i, j] = int(line[j])\n",
    "            vector1[0, 32*i+j] = int(line[j])\n",
    "    for i in range(0, 32, 2):\n",
    "        for j in range(0, 32, 2):\n",
    "            vector2[0, int(i*8+j/2)] = data[i][j]+data[i][j+1]+data[i+1][j]+data[i+1][j+1]\n",
    "    return vector1, vector2\n",
    "\n",
    "def getData(filename):\n",
    "    fileList = listdir(filename)\n",
    "    m = len(fileList)\n",
    "    dataset = np.zeros((m, 1024))\n",
    "    dataset_DR = np.zeros((m, 256))\n",
    "    labels = []\n",
    "    for i in range(m):\n",
    "        labels.append(int(fileList[i].split('_')[0]))\n",
    "        dataset[i], dataset_DR[i] = img2vector(filename, fileList[i])\n",
    "    return dataset, dataset_DR, labels\n",
    "\n",
    "X_train, X_train_DR, y_train = getData('trainingDigits')\n",
    "X_test, X_test_DR, y_test = getData('testDigits')"
   ]
  },
  {
   "cell_type": "code",
   "execution_count": 11,
   "metadata": {},
   "outputs": [
    {
     "name": "stdout",
     "output_type": "stream",
     "text": [
      "error rate: 6.87%\n"
     ]
    }
   ],
   "source": [
    "import numpy as np\n",
    "np.set_printoptions(threshold=np.inf)\n",
    "\n",
    "def train(trainMatrix, trainCategory):\n",
    "    vectorNum = len(trainMatrix)\n",
    "    featuresNum = len(trainMatrix[0])\n",
    "    labelNum = len(set(trainCategory))\n",
    "    pA = np.zeros(labelNum)\n",
    "    pB = np.ones((labelNum, featuresNum))                                      \n",
    "    for i in range(vectorNum):\n",
    "        pB[trainCategory[i]] += trainMatrix[i]\n",
    "    for i in range(labelNum):\n",
    "        pA[i] = trainCategory.count(i)\n",
    "        pB[i] /= pA[i]+2\n",
    "    return pB, pA\n",
    "\n",
    "def classify(vecClassify, pB, pA):\n",
    "    pA_B = np.zeros(len(pA))\n",
    "    for index in range(len(pA)):\n",
    "        p = 0.0\n",
    "        for i, j in zip(vecClassify, pB[index]):\n",
    "            p += np.log(j) if i == 1 else np.log(1.0-j)\n",
    "        p += np.log(pA[index])\n",
    "        pA_B[index] = p\n",
    "    return np.argmax(pA_B)\n",
    "\n",
    "def score(X_train, y_train, X_test, y_test):\n",
    "    pB, pA = train(X_train, y_train)\n",
    "    error = 0\n",
    "    for X, y in zip(X_test, y_test):\n",
    "        if classify(X, pB, pA) != y:\n",
    "            error += 1\n",
    "    print('error rate: %.2f%%' % (error/float(len(y_test)) * 100))\n",
    "if __name__ == '__main__':\n",
    "\tscore(X_train, y_train, X_test, y_test)"
   ]
  }
 ],
 "metadata": {
  "interpreter": {
   "hash": "2f394aca7ca06fed1e6064aef884364492d7cdda3614a461e02e6407fc40ba69"
  },
  "kernelspec": {
   "display_name": "Python 3.9.5 64-bit ('base': conda)",
   "language": "python",
   "name": "python3"
  },
  "language_info": {
   "codemirror_mode": {
    "name": "ipython",
    "version": 3
   },
   "file_extension": ".py",
   "mimetype": "text/x-python",
   "name": "python",
   "nbconvert_exporter": "python",
   "pygments_lexer": "ipython3",
   "version": "3.9.5"
  },
  "orig_nbformat": 4
 },
 "nbformat": 4,
 "nbformat_minor": 2
}
