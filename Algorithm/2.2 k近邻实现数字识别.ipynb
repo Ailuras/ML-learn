{
 "cells": [
  {
   "cell_type": "code",
   "execution_count": 8,
   "metadata": {},
   "outputs": [
    {
     "name": "stdout",
     "output_type": "stream",
     "text": [
      "总共错了11个数据\n",
      "错误率为1.162791%\n"
     ]
    }
   ],
   "source": [
    "import numpy as np\n",
    "import operator\n",
    "from os import listdir\n",
    "from sklearn.neighbors import KNeighborsClassifier as kNN\n",
    "\n",
    "def img2vector(filename):\n",
    "    returnVect = np.zeros((1, 1024))\n",
    "    fr = open(filename)\n",
    "    for i in range(32):\n",
    "        lineStr = fr.readline()\n",
    "        for j in range(32):\n",
    "            returnVect[0, 32*i+j] = int(lineStr[j])\n",
    "    return returnVect\n",
    "\n",
    "hwLabels = []\n",
    "trainingFileList = listdir('trainingDigits')\n",
    "m = len(trainingFileList)\n",
    "trainingMat = np.zeros((m, 1024))\n",
    "for i in range(m):\n",
    "    fileNameStr = trainingFileList[i]\n",
    "    hwLabels.append(int(fileNameStr.split('_')[0]))\n",
    "    trainingMat[i] = img2vector('trainingDigits/%s' % (fileNameStr))\n",
    "neigh = kNN(n_neighbors=3, algorithm='auto')\n",
    "neigh.fit(trainingMat, hwLabels)\n",
    "testFileList = listdir('testDigits')\n",
    "errorCount = 0.0\n",
    "mTest = len(testFileList)\n",
    "for i in range(mTest):\n",
    "    fileNameStr = testFileList[i]\n",
    "    classNumber = int(fileNameStr.split('_')[0])\n",
    "    vectorUnderTest = img2vector('testDigits/%s' % (fileNameStr))\n",
    "    classifierResult = neigh.predict(vectorUnderTest)\n",
    "    if(classifierResult != classNumber):\n",
    "        errorCount += 1.0\n",
    "print(\"总共错了%d个数据\\n错误率为%f%%\" % (errorCount, errorCount/mTest * 100))"
   ]
  }
 ],
 "metadata": {
  "interpreter": {
   "hash": "2f394aca7ca06fed1e6064aef884364492d7cdda3614a461e02e6407fc40ba69"
  },
  "kernelspec": {
   "display_name": "Python 3.9.5 64-bit ('base': conda)",
   "language": "python",
   "name": "python3"
  },
  "language_info": {
   "codemirror_mode": {
    "name": "ipython",
    "version": 3
   },
   "file_extension": ".py",
   "mimetype": "text/x-python",
   "name": "python",
   "nbconvert_exporter": "python",
   "pygments_lexer": "ipython3",
   "version": "3.9.5"
  },
  "orig_nbformat": 4
 },
 "nbformat": 4,
 "nbformat_minor": 2
}
