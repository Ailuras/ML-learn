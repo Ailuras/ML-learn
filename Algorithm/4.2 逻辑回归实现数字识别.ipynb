{
 "cells": [
  {
   "cell_type": "code",
   "execution_count": 1,
   "metadata": {},
   "outputs": [],
   "source": [
    "import numpy as np\n",
    "from os import listdir\n",
    "\n",
    "def img2vector(directory, filename):\n",
    "    vector1 = np.zeros((1, 1024))\n",
    "    vector2 = np.zeros((1, 256))\n",
    "    data = np.zeros((32, 32))\n",
    "    f = open(directory + '/' + filename)\n",
    "    for i in range(32):\n",
    "        line = f.readline()\n",
    "        for j in range(32):\n",
    "            data[i, j] = int(line[j])\n",
    "            vector1[0, 32*i+j] = int(line[j])\n",
    "    for i in range(0, 32, 2):\n",
    "        for j in range(0, 32, 2):\n",
    "            vector2[0, int(i*8+j/2)] = data[i][j]+data[i][j+1]+data[i+1][j]+data[i+1][j+1]\n",
    "    return vector1, vector2\n",
    "\n",
    "def getData(filename):\n",
    "    fileList = listdir(filename)\n",
    "    m = len(fileList)\n",
    "    dataset = np.zeros((m, 1024))\n",
    "    dataset_DR = np.zeros((m, 256))\n",
    "    labels = []\n",
    "    for i in range(m):\n",
    "        labels.append(int(fileList[i].split('_')[0]))\n",
    "        dataset[i], dataset_DR[i] = img2vector(filename, fileList[i])\n",
    "    return dataset, dataset_DR, labels\n",
    "\n",
    "X_train, X_train_DR, y_train = getData('trainingDigits')\n",
    "X_test, X_test_DR, y_test = getData('testDigits')"
   ]
  },
  {
   "cell_type": "code",
   "execution_count": 2,
   "metadata": {},
   "outputs": [
    {
     "name": "stdout",
     "output_type": "stream",
     "text": [
      "0.9693446088794926\n",
      "0.9693446088794926\n"
     ]
    }
   ],
   "source": [
    "from sklearn.linear_model import LogisticRegression as LR\n",
    "from sklearn.metrics import accuracy_score\n",
    "np.set_printoptions(threshold=np.inf)\n",
    "\n",
    "if __name__ == '__main__':\n",
    "    clf = LR(solver = 'sag', max_iter = 1000)\n",
    "    clf = clf.fit(X_train, y_train)\n",
    "    result = clf.score(X_test, y_test)\n",
    "    print(result)\n",
    "    y_predict = clf.predict(X_test).tolist()\n",
    "    y_predict = [int(a) for a in y_predict]\n",
    "    print(accuracy_score(y_test, y_predict))"
   ]
  }
 ],
 "metadata": {
  "interpreter": {
   "hash": "2f394aca7ca06fed1e6064aef884364492d7cdda3614a461e02e6407fc40ba69"
  },
  "kernelspec": {
   "display_name": "Python 3.9.5 64-bit ('base': conda)",
   "language": "python",
   "name": "python3"
  },
  "language_info": {
   "codemirror_mode": {
    "name": "ipython",
    "version": 3
   },
   "file_extension": ".py",
   "mimetype": "text/x-python",
   "name": "python",
   "nbconvert_exporter": "python",
   "pygments_lexer": "ipython3",
   "version": "3.9.5"
  },
  "orig_nbformat": 4
 },
 "nbformat": 4,
 "nbformat_minor": 2
}
