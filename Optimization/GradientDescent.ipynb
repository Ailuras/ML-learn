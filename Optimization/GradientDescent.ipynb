{
 "cells": [
  {
   "cell_type": "code",
   "execution_count": 22,
   "metadata": {},
   "outputs": [
    {
     "ename": "IndexError",
     "evalue": "index 1 is out of bounds for axis 1 with size 1",
     "output_type": "error",
     "traceback": [
      "\u001b[0;31m---------------------------------------------------------------------------\u001b[0m",
      "\u001b[0;31mIndexError\u001b[0m                                Traceback (most recent call last)",
      "\u001b[1;32m/home/hrcarryu/ML-learn/Optimization/GradientDescent.ipynb Cell 1'\u001b[0m in \u001b[0;36m<cell line: 45>\u001b[0;34m()\u001b[0m\n\u001b[1;32m     <a href='vscode-notebook-cell://wsl%2Bubuntu-20.04/home/hrcarryu/ML-learn/Optimization/GradientDescent.ipynb#ch0000000vscode-remote?line=44'>45</a>\u001b[0m \u001b[39mif\u001b[39;00m \u001b[39m__name__\u001b[39m \u001b[39m==\u001b[39m \u001b[39m'\u001b[39m\u001b[39m__main__\u001b[39m\u001b[39m'\u001b[39m:\n\u001b[1;32m     <a href='vscode-notebook-cell://wsl%2Bubuntu-20.04/home/hrcarryu/ML-learn/Optimization/GradientDescent.ipynb#ch0000000vscode-remote?line=45'>46</a>\u001b[0m     a \u001b[39m=\u001b[39m gradientDescent()\n\u001b[0;32m---> <a href='vscode-notebook-cell://wsl%2Bubuntu-20.04/home/hrcarryu/ML-learn/Optimization/GradientDescent.ipynb#ch0000000vscode-remote?line=46'>47</a>\u001b[0m     x \u001b[39m=\u001b[39m a\u001b[39m.\u001b[39;49msolve()\n\u001b[1;32m     <a href='vscode-notebook-cell://wsl%2Bubuntu-20.04/home/hrcarryu/ML-learn/Optimization/GradientDescent.ipynb#ch0000000vscode-remote?line=47'>48</a>\u001b[0m     \u001b[39mprint\u001b[39m(x)\n",
      "\u001b[1;32m/home/hrcarryu/ML-learn/Optimization/GradientDescent.ipynb Cell 1'\u001b[0m in \u001b[0;36mgradientDescent.solve\u001b[0;34m(self)\u001b[0m\n\u001b[1;32m     <a href='vscode-notebook-cell://wsl%2Bubuntu-20.04/home/hrcarryu/ML-learn/Optimization/GradientDescent.ipynb#ch0000000vscode-remote?line=26'>27</a>\u001b[0m y \u001b[39m=\u001b[39m x \u001b[39m+\u001b[39m alpha\u001b[39m*\u001b[39md\n\u001b[1;32m     <a href='vscode-notebook-cell://wsl%2Bubuntu-20.04/home/hrcarryu/ML-learn/Optimization/GradientDescent.ipynb#ch0000000vscode-remote?line=27'>28</a>\u001b[0m y1 \u001b[39m=\u001b[39m y[\u001b[39m0\u001b[39m, \u001b[39m0\u001b[39m]\n\u001b[0;32m---> <a href='vscode-notebook-cell://wsl%2Bubuntu-20.04/home/hrcarryu/ML-learn/Optimization/GradientDescent.ipynb#ch0000000vscode-remote?line=28'>29</a>\u001b[0m y2 \u001b[39m=\u001b[39m y[\u001b[39m0\u001b[39;49m, \u001b[39m1\u001b[39;49m]\n\u001b[1;32m     <a href='vscode-notebook-cell://wsl%2Bubuntu-20.04/home/hrcarryu/ML-learn/Optimization/GradientDescent.ipynb#ch0000000vscode-remote?line=29'>30</a>\u001b[0m f2 \u001b[39m=\u001b[39m y1\u001b[39m*\u001b[39m\u001b[39m*\u001b[39m\u001b[39m2\u001b[39m \u001b[39m+\u001b[39m \u001b[39m3\u001b[39m\u001b[39m*\u001b[39my2\u001b[39m*\u001b[39m\u001b[39m*\u001b[39m\u001b[39m2\u001b[39m \u001b[39m-\u001b[39m \u001b[39m4\u001b[39m\u001b[39m*\u001b[39my1 \u001b[39m-\u001b[39m \u001b[39m2\u001b[39m\u001b[39m*\u001b[39my1\u001b[39m*\u001b[39my2\n\u001b[1;32m     <a href='vscode-notebook-cell://wsl%2Bubuntu-20.04/home/hrcarryu/ML-learn/Optimization/GradientDescent.ipynb#ch0000000vscode-remote?line=30'>31</a>\u001b[0m temp \u001b[39m=\u001b[39m \u001b[39m-\u001b[39malpha\u001b[39m*\u001b[39mnp\u001b[39m.\u001b[39mdot(f_der, d)\n",
      "\u001b[0;31mIndexError\u001b[0m: index 1 is out of bounds for axis 1 with size 1"
     ]
    }
   ],
   "source": [
    "import numpy as np\n",
    "\n",
    "class gradientDescent:\n",
    "    def __init__(self, mu=0.3, beta1=0.8, beta2=1.5, epsilon=0.001, alpha=1, x1=1, x2=0):\n",
    "        self.mu = mu\n",
    "        self.beta1 = beta1\n",
    "        self.beta2 = beta2\n",
    "        self.epsilon = epsilon\n",
    "        self.alpha = alpha\n",
    "        self.x = np.array([[x1], [x2]])\n",
    "    \n",
    "    def solve(self):\n",
    "        x = self.x\n",
    "        flag = True\n",
    "        while flag:\n",
    "            x1 = x[0, 0]\n",
    "            x2 = x[1, 0]\n",
    "            f1 = x1**2 + 3*x2**2 - 4*x1 - 2*x1*x2\n",
    "            \n",
    "            d1 = 2*x1 - 4 - 2*x2\n",
    "            d2 = 6*x2 - 2*x1\n",
    "            \n",
    "            f_der = np.array([[d1], [d2]])\n",
    "            d = -f_der\n",
    "            alpha = self.alpha\n",
    "            while True:\n",
    "                y = x + alpha*d\n",
    "                print(y)\n",
    "                y1 = y[0, 0]\n",
    "                y2 = y[0, 1]\n",
    "                f2 = y1**2 + 3*y2**2 - 4*y1 - 2*y1*y2\n",
    "                temp = -alpha*np.dot(f_der, d)\n",
    "                if temp*self.mu > f1-f2:\n",
    "                    alpha = alpha*self.beta1\n",
    "                    continue\n",
    "                elif temp*(1-self.mu) < f1-f2:\n",
    "                    alpha = alpha*self.beta2\n",
    "                    continue\n",
    "                else:\n",
    "                    if abs(f1-f2) < self.epsilon:\n",
    "                        flag = False\n",
    "                    break \n",
    "            x = y + alpha*d\n",
    "        return x\n",
    "\n",
    "if __name__ == '__main__':\n",
    "    a = gradientDescent()\n",
    "    x = a.solve()\n",
    "    print(x)"
   ]
  }
 ],
 "metadata": {
  "interpreter": {
   "hash": "5aa5c97bcf91298a184af71150331bc5f2f8a5204c862b4ead6e12b953dcd39a"
  },
  "kernelspec": {
   "display_name": "Python 3.10.4 ('RL')",
   "language": "python",
   "name": "python3"
  },
  "language_info": {
   "codemirror_mode": {
    "name": "ipython",
    "version": 3
   },
   "file_extension": ".py",
   "mimetype": "text/x-python",
   "name": "python",
   "nbconvert_exporter": "python",
   "pygments_lexer": "ipython3",
   "version": "3.10.4"
  },
  "orig_nbformat": 4
 },
 "nbformat": 4,
 "nbformat_minor": 2
}
