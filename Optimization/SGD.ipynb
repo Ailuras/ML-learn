{
 "cells": [
  {
   "cell_type": "code",
   "execution_count": 1,
   "metadata": {},
   "outputs": [],
   "source": [
    "import numpy as np\n",
    "import matplotlib.pyplot as plt\n",
    "import itertools\n",
    "import random\n",
    "from tqdm import tqdm\n",
    "\n",
    "class SGD:\n",
    "    def __init__(self, dataFile='../Data/wine/wine.data', beta1=1000000, beta2=10000000, alpha=0.000001, epsilon=0.01, times=2500, bench_size=300):\n",
    "        self.dataFile = dataFile\n",
    "        self.data = []\n",
    "        self.beta1 = beta1\n",
    "        self.beta2 = beta2\n",
    "        self.alpha = alpha\n",
    "        self.times = times\n",
    "        self.value = []\n",
    "        self.epsilon = epsilon\n",
    "        self.bench_size = bench_size\n",
    "        self.M = np.identity(13)\n",
    "        self.get_info(self.dataFile)\n",
    "    def get_info(self, dataFile):\n",
    "        with open(dataFile) as f:\n",
    "            line = f.readline()\n",
    "            while line:\n",
    "                data = line[:-1].split(',')\n",
    "                self.data.append([float(i) for i in data])\n",
    "                line = f.readline()\n",
    "        data = np.array(self.data)\n",
    "        for i in range(1, 14):\n",
    "            data[:, i] = (data[:, i] - np.mean(data[:, i]))/ np.std(data[:, i])\n",
    "        self.data = list(itertools.product(data, repeat=2))\n",
    "        self.num = len(self.data)\n",
    "        \n",
    "    def get_loss(self, M):\n",
    "        total = 0\n",
    "        for x_i, x_j in self.data:\n",
    "            loss = 0\n",
    "            diff = x_i[1:]-x_j[1:]\n",
    "            diff = np.mat(diff)\n",
    "            dist = np.dot(np.dot(diff, self.M), diff.T)[0, 0]\n",
    "            if x_i[0] == x_j[0]:\n",
    "                loss += dist\n",
    "            elif dist < 1:\n",
    "                loss += self.beta1 * (1-dist)\n",
    "            if dist < 0:\n",
    "                loss -= self.beta2 * dist\n",
    "            total += loss/self.num\n",
    "        return total\n",
    "    \n",
    "    def solve(self):\n",
    "        error = self.get_loss(self.M)\n",
    "        for _ in tqdm(range(self.times)):\n",
    "            data = random.sample(self.data, self.bench_size)\n",
    "            delta_M = np.zeros([13, 13])\n",
    "            for x_i, x_j in data:\n",
    "                temp = x_i[1:]-x_j[1:]\n",
    "                temp = np.mat(temp)\n",
    "                if x_i[0] == x_j[0]:\n",
    "                    delta_M += np.dot(temp.T, temp)\n",
    "                elif np.dot(np.dot(temp, self.M), temp.T) < 1:\n",
    "                    delta_M -= self.beta1*np.dot(temp.T, temp)\n",
    "                if np.dot(np.dot(temp, self.M), temp.T) < 0:\n",
    "                    delta_M -= self.beta2*np.dot(temp.T, temp)\n",
    "            \n",
    "            alpha = self.alpha\n",
    "            self.M = self.M-alpha*delta_M\n",
    "            \n",
    "            # self.M = (M_new+M_new.T)/2\n",
    "            error = self.get_loss(self.M)\n",
    "            self.value.append(error)\n",
    "            # print(error)\n",
    "            if error < self.epsilon:\n",
    "                return\n",
    "\n",
    "    def draw(self):\n",
    "        x = range(self.times)\n",
    "        y = self.value\n",
    "        plt.plot(x, y, label=\"Train_Loss_list\")\n",
    "        plt.show()\n",
    "        \n",
    "a = SGD()"
   ]
  },
  {
   "cell_type": "code",
   "execution_count": 2,
   "metadata": {},
   "outputs": [
    {
     "name": "stderr",
     "output_type": "stream",
     "text": [
      "100%|██████████| 10000/10000 [1:10:38<00:00,  2.36it/s]\n"
     ]
    }
   ],
   "source": [
    "a.solve()"
   ]
  },
  {
   "cell_type": "code",
   "execution_count": null,
   "metadata": {},
   "outputs": [],
   "source": [
    "a.draw()"
   ]
  },
  {
   "cell_type": "code",
   "execution_count": 12,
   "metadata": {},
   "outputs": [
    {
     "data": {
      "image/png": "[encoded data removed]",
      "text/plain": [
       "<Figure size 432x288 with 1 Axes>"
      ]
     },
     "metadata": {
      "needs_background": "light"
     },
     "output_type": "display_data"
    }
   ],
   "source": [
    "x = range(a.times)[:2500]\n",
    "y = [i[0,0] for i in a.value][:2500]\n",
    "plt.plot(x, y, label=\"Train_Loss_list\")\n",
    "plt.show()"
   ]
  },
  {
   "cell_type": "code",
   "execution_count": null,
   "metadata": {},
   "outputs": [],
   "source": [
    "print(a)"
   ]
  }
 ],
 "metadata": {
  "language_info": {
   "name": "python"
  },
  "orig_nbformat": 4
 },
 "nbformat": 4,
 "nbformat_minor": 2
}
