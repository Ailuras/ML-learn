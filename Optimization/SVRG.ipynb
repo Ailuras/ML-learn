{
 "cells": [
  {
   "cell_type": "code",
   "execution_count": 15,
   "metadata": {},
   "outputs": [],
   "source": [
    "import numpy as np\n",
    "import matplotlib.pyplot as plt\n",
    "import itertools\n",
    "from tqdm import tqdm\n",
    "import random\n",
    "import math\n",
    "\n",
    "class SVRG:\n",
    "    def __init__(self, dataFile='../Data/covtype/covtype.libsvm.binary.scale', alpha=0.0000001, epsilon=0.1, times=1000, features=54, bench_size=1000, size=10000):\n",
    "        self.dataFile = dataFile\n",
    "        self.alpha = alpha\n",
    "        self.times = times\n",
    "        self.epsilon = epsilon\n",
    "        self.bench_size = bench_size\n",
    "        self.features = features+1\n",
    "        self.value1 = []\n",
    "        self.value2 = []\n",
    "        # must can be divide by 5\n",
    "        self.size = size\n",
    "        self.get_info(self.dataFile, True)\n",
    "        self.omega = np.zeros((1 ,self.features))\n",
    "        \n",
    "    def get_info(self, dataFile, select_part=False):\n",
    "        y_data = []\n",
    "        x_data = []\n",
    "        with open(dataFile) as f:\n",
    "            line = f.readline()\n",
    "            index = 0\n",
    "            while line:\n",
    "                y_data.append(int(line[0])-1)\n",
    "                info = line[2:-2].split(' ')\n",
    "                x = [0]*(self.features)\n",
    "                x[0] = 1\n",
    "                for i in info:\n",
    "                    i = i.split(':')\n",
    "                    x[int(i[0])] = float(i[1])\n",
    "                x_data.append(x)\n",
    "                line = f.readline()\n",
    "                if select_part == True:\n",
    "                    index += 1\n",
    "                    if index >= self.size:\n",
    "                        break\n",
    "            self.size = len(y_data)\n",
    "                    \n",
    "            y_test = []\n",
    "            x_test = []\n",
    "            for i in range(int(self.size/5)):\n",
    "                randIndex = int(np.random.uniform(0, len(y_data)))\n",
    "                y_test.append(y_data[randIndex])\n",
    "                x_test.append(x_data[randIndex])\n",
    "                del(y_data[randIndex])\n",
    "                del(x_data[randIndex])\n",
    "                        \n",
    "            self.y_train = np.mat(y_data).reshape(-1, 1)\n",
    "            self.x_train = np.mat(x_data)\n",
    "            self.y_test = np.mat(y_test).reshape(-1, 1)\n",
    "            self.x_test = np.mat(x_test)\n",
    "        \n",
    "    def get_loss(self, set=1):\n",
    "        error = 0\n",
    "        if set == 1: \n",
    "            # train loss\n",
    "            len = self.y_train.shape[0]         \n",
    "            for i in range(len):\n",
    "                h = self.get_h(i, set)\n",
    "                error += self.y_train[i, 0]*math.log(h)+(1-self.y_train[i, 0])*math.log(1-h)\n",
    "            return -error/len\n",
    "        else:\n",
    "            # test loss\n",
    "            len = self.y_test.shape[0]\n",
    "            for i in range(len):\n",
    "                h = self.get_h(i, set)\n",
    "                error += self.y_test[i, 0]*math.log(h)+(1-self.y_test[i, 0])*math.log(1-h)\n",
    "            return -error/len\n",
    "    \n",
    "    def get_h(self, index, set):\n",
    "        if set == 1:\n",
    "            # print((-self.omega*self.x_train[index].T)[0, 0])\n",
    "            return 1/(1+math.exp((-self.omega*self.x_train[index].T)[0, 0]))\n",
    "        else:\n",
    "            return 1/(1+math.exp((-self.omega*self.x_test[index].T)[0, 0]))\n",
    "    \n",
    "    def get_gradient(self, index):\n",
    "        # using logistic regression loss\n",
    "        return (self.get_h(index, 1)-self.y_train[index, 0])*self.x_train[index]\n",
    "    \n",
    "    def solve(self):\n",
    "        d = np.zeros((1 ,self.features))\n",
    "        gradient = np.zeros((self.size, 1, self.features))\n",
    "        len = self.y_train.shape[0]\n",
    "        for i in tqdm(range(self.times)):\n",
    "        # for i in range(self.times):\n",
    "            G = np.zeros((1 ,self.features))\n",
    "            for i in range(len):\n",
    "                gradient[i] = self.get_gradient(i)\n",
    "                G += gradient[i]\n",
    "            # print(G)\n",
    "            omega = self.omega\n",
    "            for j in range(self.bench_size):\n",
    "                index = random.randint(0, len-1)\n",
    "                g = self.get_gradient(index)\n",
    "                d = G-gradient[index]+g\n",
    "                omega -= self.alpha*d\n",
    "            self.omega = omega\n",
    "        \n",
    "            loss1 = self.get_loss(1)\n",
    "            # print(loss1)\n",
    "            self.value1.append(loss1)\n",
    "            loss2 = self.get_loss(2)\n",
    "            self.value2.append(loss2)\n",
    "        \n",
    "    def draw(self):\n",
    "        x = range(self.times)\n",
    "        y1 = self.value1\n",
    "        y2 = self.value2\n",
    "        plt.title('Train_Loss_list')\n",
    "        plt.plot(x, y1, label=\"Train_Loss_list\")\n",
    "        plt.show()\n",
    "        plt.title('Test_Loss_list')\n",
    "        plt.plot(x, y2, label=\"Test_Loss_list\")\n",
    "        plt.show()\n",
    "    \n",
    "    def test(self):\n",
    "        d = np.zeros((1 ,self.features))\n",
    "        gradient = np.zeros((self.size, self.features))\n",
    "        g = self.get_gradient(0)\n",
    "        print(g)\n",
    "        d = d-gradient[0]+g\n",
    "        print(d)"
   ]
  },
  {
   "cell_type": "code",
   "execution_count": 16,
   "metadata": {},
   "outputs": [
    {
     "name": "stderr",
     "output_type": "stream",
     "text": [
      "100%|██████████| 1000/1000 [04:57<00:00,  3.36it/s]\n"
     ]
    }
   ],
   "source": [
    "a = SVRG()\n",
    "a.solve()"
   ]
  },
  {
   "cell_type": "code",
   "execution_count": 17,
   "metadata": {},
   "outputs": [
    {
     "data": {
      "image/png": "[encoded data removed]",
      "text/plain": [
       "<Figure size 432x288 with 1 Axes>"
      ]
     },
     "metadata": {
      "needs_background": "light"
     },
     "output_type": "display_data"
    },
    {
     "data": {
      "image/png": "[encoded data removed]",
      "text/plain": [
       "<Figure size 432x288 with 1 Axes>"
      ]
     },
     "metadata": {
      "needs_background": "light"
     },
     "output_type": "display_data"
    }
   ],
   "source": [
    "a.draw()"
   ]
  }
 ],
 "metadata": {
  "kernelspec": {
   "display_name": "Python 3.9.7 ('base')",
   "language": "python",
   "name": "python3"
  },
  "language_info": {
   "name": "python",
   "version": "3.9.7"
  },
  "orig_nbformat": 4,
  "vscode": {
   "interpreter": {
    "hash": "414894a69326f3f6f0d879a0c415983bdd565510f9119cc362e056dc12c18af4"
   }
  }
 },
 "nbformat": 4,
 "nbformat_minor": 2
}
