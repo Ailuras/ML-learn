{
 "cells": [
  {
   "cell_type": "code",
   "execution_count": null,
   "metadata": {},
   "outputs": [],
   "source": [
    "import numpy as np\n",
    "\n",
    "class gradientDescent:\n",
    "    def __init__(self, mu=0.3, beta1=0.8, beta2=1.5, epsilon=0.001, alpha=1, x1=1, x2=0):\n",
    "        self.mu = mu\n",
    "        self.beta1 = beta1\n",
    "        self.beta2 = beta2\n",
    "        self.epsilon = epsilon\n",
    "        self.alpha = alpha\n",
    "        self.x = np.array([[x1], [x2]])\n",
    "    \n",
    "    def solve(self):\n",
    "        x = self.x\n",
    "        flag = True\n",
    "        while flag:\n",
    "            x1 = x[0, 0]\n",
    "            x2 = x[1, 0]\n",
    "            f1 = x1**2 + 3*x2**2 - 4*x1 - 2*x1*x2\n",
    "            \n",
    "            d1 = 2*x1 - 4 - 2*x2\n",
    "            d2 = 6*x2 - 2*x1\n",
    "            \n",
    "            f_der = np.array([[d1], [d2]])\n",
    "            d = -f_der\n",
    "            alpha = self.alpha\n",
    "            while True:\n",
    "                y = x + alpha*d\n",
    "                print(y)\n",
    "                y1 = y[0, 0]\n",
    "                y2 = y[0, 1]\n",
    "                f2 = y1**2 + 3*y2**2 - 4*y1 - 2*y1*y2\n",
    "                temp = -alpha*np.dot(f_der, d)\n",
    "                if temp*self.mu > f1-f2:\n",
    "                    alpha = alpha*self.beta1\n",
    "                    continue\n",
    "                elif temp*(1-self.mu) < f1-f2:\n",
    "                    alpha = alpha*self.beta2\n",
    "                    continue\n",
    "                else:\n",
    "                    if abs(f1-f2) < self.epsilon:\n",
    "                        flag = False\n",
    "                    break \n",
    "            x = y + alpha*d\n",
    "        return x\n",
    "\n",
    "if __name__ == '__main__':\n",
    "    a = gradientDescent()\n",
    "    x = a.solve()\n",
    "    print(x)"
   ]
  },
  {
   "cell_type": "code",
   "execution_count": 19,
   "metadata": {},
   "outputs": [
    {
     "name": "stdout",
     "output_type": "stream",
     "text": [
      "经历1次迭代后收敛\n",
      "[[1.]\n",
      " [0.]]\n"
     ]
    }
   ],
   "source": [
    "import numpy as np\n",
    "\n",
    "class newtonMethod:\n",
    "    def __init__(self, mu=0.3, beta1=0.8, beta2=1.5, epsilon=0.001, alpha=1, x1=1, x2=0):\n",
    "        self.mu = mu\n",
    "        self.beta1 = beta1\n",
    "        self.beta2 = beta2\n",
    "        self.epsilon = epsilon\n",
    "        self.alpha = alpha\n",
    "        self.x = np.array([[x1], [x2]])\n",
    "    \n",
    "    def solve(self):\n",
    "        x = self.x\n",
    "        flag = True\n",
    "        index = 0\n",
    "        while flag:\n",
    "            x1 = x[0, 0]\n",
    "            x2 = x[1, 0]\n",
    "            # f1 = x1**2 + 3*x2**2 - 4*x1 - 2*x1*x2\n",
    "            f1 = x1*x1 + x1*x2\n",
    "            \n",
    "            # d1 = 2*x1 - 4 - 2*x2\n",
    "            # d2 = 6*x2 - 2*x1\n",
    "            d1 = 2*x1\n",
    "            d2 = 2*x2\n",
    "            \n",
    "            f_der1 = np.array([[d1], [d2]])\n",
    "            \n",
    "            # d11 = 2\n",
    "            # d12 = -2\n",
    "            # d21 = -2\n",
    "            # d22 = 6\n",
    "            \n",
    "            d11 = 2\n",
    "            d12 = 0\n",
    "            d21 = 0\n",
    "            d22 = 2\n",
    "            \n",
    "            f_der2 = np.array([[d11, d12], [d21, d22]])\n",
    "            \n",
    "            d = np.dot(np.matrix(f_der2).I, f_der1)\n",
    "            \n",
    "            alpha = self.alpha\n",
    "            temp = np.dot(f_der1.T, d)\n",
    "            while True:\n",
    "                y = x + alpha*d\n",
    "                # print(y)\n",
    "                y1 = y[0, 0]\n",
    "                y2 = y[1, 0]\n",
    "                \n",
    "                # f2 = y1**2 + 3*y2**2 - 4*y1 - 2*y1*y2\n",
    "                f2 = y1*y1 + y2*y2\n",
    "                \n",
    "                # print(d)\n",
    "                # print(f1 + self.mu*alpha*np.dot(f_der1.T, d))\n",
    "                # print(f1 + (1-self.mu)*alpha*np.dot(f_der1.T, d))\n",
    "                # break\n",
    "                if -alpha*temp*self.mu > f1-f2:\n",
    "                    # print('太大了', alpha)\n",
    "                    # print(temp*self.mu)\n",
    "                    # print(f1-f2)\n",
    "                    alpha = alpha*self.beta1\n",
    "                    continue\n",
    "                # elif temp*(1-self.mu) < f1-f2:\n",
    "                #     print('太小了', alpha)\n",
    "                #     # print(temp*(1-self.mu))\n",
    "                #     # print(f1-f2)\n",
    "                #     alpha = alpha*self.beta2\n",
    "                #     continue\n",
    "                else:\n",
    "                    if abs(f1-f2) < self.epsilon:\n",
    "                        flag = False\n",
    "                    break\n",
    "            index += 1 \n",
    "            # print('第%d次迭代:'%(index))\n",
    "            # print(x)\n",
    "            # print(alpha)\n",
    "            # print(d)\n",
    "            x = x + alpha*d\n",
    "            # break\n",
    "        print('经历%d次迭代后收敛'%(index))\n",
    "        return x\n",
    "\n",
    "if __name__ == '__main__':\n",
    "    a = newtonMethod()\n",
    "    x = a.solve()\n",
    "    print(x)"
   ]
  },
  {
   "cell_type": "code",
   "execution_count": 32,
   "metadata": {},
   "outputs": [
    {
     "name": "stdout",
     "output_type": "stream",
     "text": [
      "-0.11012364123583251\n",
      "-0.779310234320707\n"
     ]
    }
   ],
   "source": [
    "x1 = 0.53106994\n",
    "x2 = 0.27813873\n",
    "print(2*(x1-1) - 400*x1*(x2-x1**2))\n",
    "print(200*(x2-x1**2))"
   ]
  },
  {
   "cell_type": "code",
   "execution_count": 4,
   "metadata": {},
   "outputs": [
    {
     "data": {
      "image/png": "[encoded data removed]",
      "text/plain": [
       "<Figure size 432x288 with 1 Axes>"
      ]
     },
     "metadata": {
      "needs_background": "light"
     },
     "output_type": "display_data"
    }
   ],
   "source": [
    "# coding:utf-8\n",
    "import matplotlib.pyplot as plt\n",
    "\n",
    "Train_Loss_list = []\n",
    "for i in range(10):\n",
    "    Train_Loss_list.append(1)\n",
    "\n",
    "#迭代了97次，所以x的取值范围为(0，97)，\n",
    "x1 = range(10)\n",
    "y1 = Train_Loss_list\n",
    "plt.plot(x1, y1,label=\"Train_Loss_list\")\n",
    "plt.show()\n",
    "\n"
   ]
  }
 ],
 "metadata": {
  "interpreter": {
   "hash": "5aa5c97bcf91298a184af71150331bc5f2f8a5204c862b4ead6e12b953dcd39a"
  },
  "kernelspec": {
   "display_name": "Python 3.10.4 ('RL')",
   "language": "python",
   "name": "python3"
  },
  "language_info": {
   "codemirror_mode": {
    "name": "ipython",
    "version": 3
   },
   "file_extension": ".py",
   "mimetype": "text/x-python",
   "name": "python",
   "nbconvert_exporter": "python",
   "pygments_lexer": "ipython3",
   "version": "3.10.4"
  },
  "orig_nbformat": 4
 },
 "nbformat": 4,
 "nbformat_minor": 2
}
