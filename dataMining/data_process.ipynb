{
 "cells": [
  {
   "cell_type": "code",
   "execution_count": 14,
   "metadata": {},
   "outputs": [
    {
     "name": "stdout",
     "output_type": "stream",
     "text": [
      "6273\n",
      "37550\n",
      "27058\n",
      "41541\n"
     ]
    }
   ],
   "source": [
    "import numpy\n",
    "import random\n",
    "\n",
    "'''\n",
    "100 民生 故事 news_story\n",
    "103 体育 体育 news_sport\n",
    "108 教育 教育 news_edu \n",
    "109 科技 科技 news_tech\n",
    "'''\n",
    "\n",
    "\n",
    "def select_data(path='data/toutiao_cat_data.txt', size=1000):\n",
    "    story = []\n",
    "    sport = []\n",
    "    edu = []\n",
    "    tech = []\n",
    "    try:\n",
    "        with open(path) as f:    \n",
    "            line = f.readline()\n",
    "            while line:\n",
    "                # print(line[24])\n",
    "                if line[23:25] == '00':\n",
    "                    story.append(line)\n",
    "                elif line[23:25] == '03':\n",
    "                    sport.append(line)\n",
    "                elif line[23:25] == '08':\n",
    "                    edu.append(line)\n",
    "                elif line[23:25] == '09':\n",
    "                    tech.append(line)\n",
    "                line = f.readline()\n",
    "    except:\n",
    "        print('error')\n",
    "    print(len(story))\n",
    "    print(len(sport))\n",
    "    print(len(edu))\n",
    "    print(len(tech))\n",
    "    story = random.sample(story, size)\n",
    "    sport = random.sample(sport, size)\n",
    "    edu = random.sample(edu, size)\n",
    "    tech = random.sample(tech, size)\n",
    "    with open(\"data.txt\", \"a\") as f:\n",
    "        for line in story:\n",
    "            f.write(line)\n",
    "        for line in sport:\n",
    "            f.write(line)\n",
    "        for line in edu:\n",
    "            f.write(line)\n",
    "        for line in tech:\n",
    "            f.write(line)\n",
    "\n",
    "select_data()"
   ]
  },
  {
   "cell_type": "code",
   "execution_count": null,
   "metadata": {},
   "outputs": [],
   "source": [
    "def pre_process():\n",
    "    "
   ]
  }
 ],
 "metadata": {
  "kernelspec": {
   "display_name": "Python 3.9.7 ('base')",
   "language": "python",
   "name": "python3"
  },
  "language_info": {
   "codemirror_mode": {
    "name": "ipython",
    "version": 3
   },
   "file_extension": ".py",
   "mimetype": "text/x-python",
   "name": "python",
   "nbconvert_exporter": "python",
   "pygments_lexer": "ipython3",
   "version": "3.9.7"
  },
  "orig_nbformat": 4,
  "vscode": {
   "interpreter": {
    "hash": "414894a69326f3f6f0d879a0c415983bdd565510f9119cc362e056dc12c18af4"
   }
  }
 },
 "nbformat": 4,
 "nbformat_minor": 2
}
